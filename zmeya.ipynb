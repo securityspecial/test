{
 "cells": [
  {
   "cell_type": "markdown",
   "id": "rental-problem",
   "metadata": {
    "tags": [
     "Билет 1"
    ]
   },
   "source": [
    "## Билет 1"
   ]
  },
  {
   "cell_type": "markdown",
   "id": "southeast-selling",
   "metadata": {
    "tags": [
     "task_101",
     "Билет 1"
    ],
    "task_id": 101
   },
   "source": [
    "1. Задана строка, в которой через запятую перечислены слова. Создать словарь, в котором ключами будут слова из строки, а значениями числа от 1…"
   ]
  },
  {
   "cell_type": "code",
   "execution_count": 1,
   "id": "prepared-given",
   "metadata": {
    "tags": [
     "task_101",
     "Билет 1"
    ],
    "task_id": 101
   },
   "outputs": [
    {
     "name": "stdout",
     "output_type": "stream",
     "text": [
      "Hello\n"
     ]
    }
   ],
   "source": [
    "# ваш код здесь\n",
    "a = 'один, два, три, четыре, пять'\n",
    "a = a.split(',')\n",
    "slov = {a[value]: value+1 for value in range(len(a))}\n",
    "print(slov)\n"
   ]
  },
  {
   "cell_type": "markdown",
   "id": "english-collaboration",
   "metadata": {
    "tags": [
     "task_102",
     "Билет 1"
    ],
    "task_id": 102
   },
   "source": [
    "2. Для введенной строки выведите (на отдельной строке): \n",
    "• всю строку, кроме последних двух символов; \n",
    "• все символы с четными индексами (считая, что индексация начинается с 0, поэтому символы выводятся, начиная с первого); \n",
    "• все символы с нечетными индексами, то есть начиная со второго символа строки."
   ]
  },
  {
   "cell_type": "code",
   "execution_count": null,
   "id": "advisory-kelly",
   "metadata": {
    "tags": [
     "task_102",
     "Билет 1"
    ],
    "task_id": 102
   },
   "outputs": [],
   "source": [
    "# ваш код здесь\n",
    "a = input()\n",
    "a1 = ''\n",
    "a2 = ''\n",
    "print(a[0:len(a)-2])\n",
    "for i in range(0,len(a),2):\n",
    "    a1 += a[i]\n",
    "for i in range(1,len(a),2):\n",
    "    a2 += a[i]\n",
    "print(a1)\n",
    "print(a2)\n"
   ]
  },
  {
   "cell_type": "markdown",
   "id": "dress-webcam",
   "metadata": {
    "tags": [
     "task_103",
     "Билет 1"
    ],
    "task_id": 103
   },
   "source": [
    "3. Вы принимаете от пользователя последовательность чисел, разделённых запятой. Составьте список и кортеж с этими числами."
   ]
  },
  {
   "cell_type": "code",
   "execution_count": null,
   "id": "vertical-preview",
   "metadata": {
    "tags": [
     "task_103",
     "Билет 1"
    ],
    "task_id": 103
   },
   "outputs": [],
   "source": [
    "# ваш код здесь\n",
    "a = input()\n",
    "a = a.split(',')\n",
    "b = list(a)\n",
    "c = tuple(a)\n",
    "print(b,c)\n"
   ]
  },
  {
   "cell_type": "markdown",
   "id": "quick-playback",
   "metadata": {
    "tags": [
     "Билет 2"
    ]
   },
   "source": [
    "## Билет 2"
   ]
  },
  {
   "cell_type": "markdown",
   "id": "revolutionary-girlfriend",
   "metadata": {
    "tags": [
     "task_201",
     "Билет 2"
    ],
    "task_id": 201
   },
   "source": [
    "1. Для списков вида [[‘Иванов’, 3,5,4], [‘Петров’, 4, 5, 5], [‘Сидоров’, 3, 3, 3], [‘Николаев’, 4, 4, 3]] напишите функцию, которая выводит на экран этот список в виде таблицы в отсортированном виде."
   ]
  },
  {
   "cell_type": "code",
   "execution_count": null,
   "id": "african-probability",
   "metadata": {
    "tags": [
     "task_201",
     "Билет 2"
    ],
    "task_id": 201
   },
   "outputs": [],
   "source": [
    "# ваш код здесь\n",
    "list1 =  [['Иванов', 3,5,4], ['Петров', 4, 5, 5], ['Сидоров', 3, 3, 3], ['Николаев', 4, 4, 3]]\n",
    "list1.sort(key = lambda x: (x[0]))\n",
    "for i in range(len(list1)):\n",
    "    print(list1[i])\n"
   ]
  },
  {
   "cell_type": "markdown",
   "id": "arbitrary-living",
   "metadata": {
    "tags": [
     "task_202",
     "Билет 2"
    ],
    "task_id": 202
   },
   "source": [
    "2. Напишите программу, которая вводит с клавиатуры 5 чисел и вычисляет их сумму, произведение и среднее значение."
   ]
  },
  {
   "cell_type": "code",
   "execution_count": null,
   "id": "furnished-university",
   "metadata": {
    "tags": [
     "task_202",
     "Билет 2"
    ],
    "task_id": 202
   },
   "outputs": [],
   "source": [
    "# ваш код здесь\n",
    "vvod = 0\n",
    "summ = 0\n",
    "proizv = 1  \n",
    "for i in range(5):\n",
    "    vvod = int(input())\n",
    "    summ += vvod\n",
    "    proizv *= vvod\n",
    "print(summ)\n",
    "print(proizv)\n",
    "print(summ/5)\n"
   ]
  },
  {
   "cell_type": "markdown",
   "id": "neutral-campaign",
   "metadata": {
    "tags": [
     "task_203",
     "Билет 2"
    ],
    "task_id": 203
   },
   "source": [
    "3. Имеется 2 банка. Первый банк ежемесячно начисляет 1.1% от первоначально вложенной суммы (простые проценты). Второй банк ежемесячно начисляет 1% от накопленной к этому моменту суммы (сложные проценты). В каждый из банков в месяц 0 (начальный момент) положили 100 000 руб. Напишите программу, которая выводит на экран в виде таблицы, накопленные в этих банках суммы для 24 месяцев. Определите в программе и выведите на экран в какой банк выгоднее вложить деньги на 1 год и на 2 года."
   ]
  },
  {
   "cell_type": "code",
   "execution_count": null,
   "id": "light-commons",
   "metadata": {
    "tags": [
     "task_203",
     "Билет 2"
    ],
    "task_id": 203
   },
   "outputs": [],
   "source": [
    "# ваш код здесь\n",
    "vklad = 100000\n",
    "bank1 = vklad\n",
    "bank2 = vklad\n",
    "f12 = True\n",
    "f24 = True\n",
    "for i in range(24):\n",
    "    bank1 += vklad*0.011\n",
    "    bank2 += bank2*0.01\n",
    "    print('Месяц'+str(i)+' Банк 1 ='+str(bank1)+ 'Банк 2 ='+str(bank2))\n",
    "    if (i==11) and (bank1>bank2):\n",
    "        flag12 = True\n",
    "    elif  (i==11) and (bank1<bank2):\n",
    "        flag12 = False  \n",
    "    if (i==23) and (bank1>bank2):\n",
    "        flag24 = True   \n",
    "    elif (i==23) and (bank1<bank2):\n",
    "        flag24 = False\n",
    "\n",
    "if flag12 == True:\n",
    "    print('первый банк выгоднее в первый год')\n",
    "else: print('второй банк выгоднее в первый год')    \n",
    "\n",
    "if flag24 == True:\n",
    "    print('первый банк выгоднее во второй год')\n",
    "else: print('второй банк выгоднее во второй год')\n",
    "    \n",
    "    \n"
   ]
  },
  {
   "cell_type": "markdown",
   "id": "sensitive-control",
   "metadata": {
    "tags": [
     "Билет 3"
    ]
   },
   "source": [
    "## Билет 3"
   ]
  },
  {
   "cell_type": "markdown",
   "id": "alone-excess",
   "metadata": {
    "tags": [
     "task_301",
     "Билет 3"
    ],
    "task_id": 301
   },
   "source": [
    "1. Реализовать функции для выполнения четырех арифмитических операций преобразующих целые числа в целое число."
   ]
  },
  {
   "cell_type": "code",
   "execution_count": null,
   "id": "guilty-inventory",
   "metadata": {
    "tags": [
     "task_301",
     "Билет 3"
    ],
    "task_id": 301
   },
   "outputs": [],
   "source": [
    "# ваш код здесь\n",
    "def summa(a,b):\n",
    "    return(int(a)+int(b))\n",
    "def razn(a,b):\n",
    "    return(int(a)-int(b))\n",
    "def proizv(a,b):\n",
    "    return(int(a)*int(b))\n",
    "def delen(a,b):\n",
    "    return(int(int(a)/int(b)))\n",
    "\n",
    "n1 = input()\n",
    "n2 = input()\n",
    "print(summa(n1,n2))\n",
    "print(razn(n1,n2))\n",
    "print(proizv(n1,n2))\n",
    "print(delen(n1,n2))\n"
   ]
  },
  {
   "cell_type": "markdown",
   "id": "western-hopkins",
   "metadata": {
    "tags": [
     "task_302",
     "Билет 3"
    ],
    "task_id": 302
   },
   "source": [
    "2. Сформировать и вывести на экран список из 5 случайных целых чисел от -10 до 10. Для созданного списка: вычислить среднее арифметическое значение элементов списка."
   ]
  },
  {
   "cell_type": "code",
   "execution_count": null,
   "id": "cutting-duration",
   "metadata": {
    "tags": [
     "task_302",
     "Билет 3"
    ],
    "task_id": 302
   },
   "outputs": [],
   "source": [
    "# ваш код здесь\n",
    "import random\n",
    "list1 = []\n",
    "summa = 0\n",
    "for i in range(5):\n",
    "    list1.append(random.randint(-10,10))\n",
    "    summa += list1[i]\n",
    "    \n",
    "print(list1)\n",
    "print(summa/len(list1))\n",
    "\n"
   ]
  },
  {
   "cell_type": "markdown",
   "id": "changed-thomson",
   "metadata": {
    "tags": [
     "task_303",
     "Билет 3"
    ],
    "task_id": 303
   },
   "source": [
    "3. Вывести все делители числа 52 используя функцию range()."
   ]
  },
  {
   "cell_type": "code",
   "execution_count": null,
   "id": "filled-slovak",
   "metadata": {
    "tags": [
     "task_303",
     "Билет 3"
    ],
    "task_id": 303
   },
   "outputs": [],
   "source": [
    "# ваш код здесь\n",
    "for i in range(1,53):\n",
    "    if 52%i == 0:\n",
    "        print(i)\n"
   ]
  },
  {
   "cell_type": "markdown",
   "id": "infrared-bobby",
   "metadata": {
    "tags": [
     "Билет 4"
    ]
   },
   "source": [
    "## Билет 4"
   ]
  },
  {
   "cell_type": "markdown",
   "id": "adverse-mouth",
   "metadata": {
    "tags": [
     "task_401",
     "Билет 4"
    ],
    "task_id": 401
   },
   "source": [
    "1. Написать калькулятор для строковых выражений вида '<число> <операция> <число>', где <число> - целое число, например 113, <арифмитическая операция> - одна из операций +,-,*,/(деление нацело),%(остаток от деления),^(возведение в степень). Пример calc('13 - 5') -> 8. Проверять переданную строку на корректность ввода и выводить отладочную ошибку."
   ]
  },
  {
   "cell_type": "code",
   "execution_count": null,
   "id": "overall-regard",
   "metadata": {
    "tags": [
     "task_401",
     "Билет 4"
    ],
    "task_id": 401
   },
   "outputs": [],
   "source": [
    "# ваш код здесь\n",
    "a = input()\n",
    "if a.find('^') != -1:\n",
    "    osn = int(a[0:a.find('^')])\n",
    "    step = int(a[a.find('^')+1: len(a)])\n",
    "    print(osn**step)\n",
    "else: \n",
    "    calc = compile(a, 'string', 'eval')\n",
    "    print(eval(calc))\n"
   ]
  },
  {
   "cell_type": "markdown",
   "id": "abstract-negotiation",
   "metadata": {
    "tags": [
     "task_402",
     "Билет 4"
    ],
    "task_id": 402
   },
   "source": [
    "2. Для введенной строки выведите (на отдельной строке): \n",
    "• второй символ этой строки; \n",
    "• предпоследний символ этой строки; \n",
    "• первые 3 символа этой строки. "
   ]
  },
  {
   "cell_type": "code",
   "execution_count": null,
   "id": "advised-drawing",
   "metadata": {
    "tags": [
     "task_402",
     "Билет 4"
    ],
    "task_id": 402
   },
   "outputs": [],
   "source": [
    "# ваш код здесь\n",
    "a = input()\n",
    "print(a[1])\n",
    "print(a[len(a)-2])\n",
    "print(a[0:3])\n"
   ]
  },
  {
   "cell_type": "markdown",
   "id": "cleared-description",
   "metadata": {
    "tags": [
     "task_403",
     "Билет 4"
    ],
    "task_id": 403
   },
   "source": [
    "3. Напишите программу, которая при попадании значения в диапазон печатает «Yes», в противном случае – «No». Границы диапазона и значение вводятся."
   ]
  },
  {
   "cell_type": "code",
   "execution_count": null,
   "id": "charged-general",
   "metadata": {
    "tags": [
     "task_403",
     "Билет 4"
    ],
    "task_id": 403
   },
   "outputs": [],
   "source": [
    "# ваш код здесь\n",
    "r1 = int(input())\n",
    "r2 = int(input())\n",
    "value = int(input())\n",
    "if (value>r1) and (value<r2):\n",
    "    print('Yes')\n",
    "else:\n",
    "    print('No')\n"
   ]
  },
  {
   "cell_type": "markdown",
   "id": "egyptian-atlantic",
   "metadata": {
    "tags": [
     "Билет 5"
    ]
   },
   "source": [
    "## Билет 5"
   ]
  },
  {
   "cell_type": "markdown",
   "id": "sweet-walker",
   "metadata": {
    "tags": [
     "task_501",
     "Билет 5"
    ],
    "task_id": 501
   },
   "source": [
    "1. Напишите функцию, которая вычисляет сумму цифр трехзначного числа."
   ]
  },
  {
   "cell_type": "code",
   "execution_count": null,
   "id": "abroad-grocery",
   "metadata": {
    "tags": [
     "task_501",
     "Билет 5"
    ],
    "task_id": 501
   },
   "outputs": [],
   "source": [
    "# ваш код здесь\n",
    "\n"
   ]
  },
  {
   "cell_type": "markdown",
   "id": "instructional-humanitarian",
   "metadata": {
    "tags": [
     "task_502",
     "Билет 5"
    ],
    "task_id": 502
   },
   "source": [
    "2. Определить, сколько элементов заданного списка содержится в словаре. Пример: определить сколько элементов списка l1 содержится в словаре d1. (ответ: 2)\n",
    "l1=list('abcdef')\n",
    "d1=dict({'e': 1, 'f': 2, 'g': 3, 'h': 4, 'k': 5})\n"
   ]
  },
  {
   "cell_type": "code",
   "execution_count": null,
   "id": "optional-heaven",
   "metadata": {
    "tags": [
     "task_502",
     "Билет 5"
    ],
    "task_id": 502
   },
   "outputs": [],
   "source": [
    "# ваш код здесь\n",
    "\n"
   ]
  },
  {
   "cell_type": "markdown",
   "id": "searching-container",
   "metadata": {
    "tags": [
     "task_503",
     "Билет 5"
    ],
    "task_id": 503
   },
   "source": [
    "3. Сформировать и вывести на экран список из 5 случайных целых чисел от -10 до 10. Для созданного списка: переставить элементы списка в обратном порядке."
   ]
  },
  {
   "cell_type": "code",
   "execution_count": null,
   "id": "willing-controversy",
   "metadata": {
    "tags": [
     "task_503",
     "Билет 5"
    ],
    "task_id": 503
   },
   "outputs": [],
   "source": [
    "# ваш код здесь\n",
    "\n"
   ]
  },
  {
   "cell_type": "markdown",
   "id": "pharmaceutical-jonathan",
   "metadata": {
    "tags": [
     "Билет 6"
    ]
   },
   "source": [
    "## Билет 6"
   ]
  },
  {
   "cell_type": "markdown",
   "id": "uniform-conference",
   "metadata": {
    "tags": [
     "task_601",
     "Билет 6"
    ],
    "task_id": 601
   },
   "source": [
    "1. Строка содержит фамилию, имя и отчество, записанные через пробелы. Например « Иванов Иван Иванович». Для этой строки: получите строки вида «Иванов И.И.» и «И.И. Иванов»."
   ]
  },
  {
   "cell_type": "code",
   "execution_count": null,
   "id": "olympic-territory",
   "metadata": {
    "tags": [
     "task_601",
     "Билет 6"
    ],
    "task_id": 601
   },
   "outputs": [],
   "source": [
    "# ваш код здесь\n",
    "fullname = input()\n",
    "list_ = fullname.split()\n",
    "print(list_[0], \" \", list_[1][0],'.', list_[2][0], '.', sep = \"\")\n",
    "print(list_[1][0],'.', list_[2][0], '. ', list_[0], sep = \"\")\n",
    "\n"
   ]
  },
  {
   "cell_type": "markdown",
   "id": "beautiful-hunter",
   "metadata": {
    "tags": [
     "task_602",
     "Билет 6"
    ],
    "task_id": 602
   },
   "source": [
    "2. Сформировать и вывести на экран список из 5 случайных целых чисел от -10 до 10. Для созданного списка: создать новый список из отрицательных элементов исходного списка. В исходном списке удалить отрицательные элементы. Порядок элементов должен быть сохранен."
   ]
  },
  {
   "cell_type": "code",
   "execution_count": null,
   "id": "active-february",
   "metadata": {
    "tags": [
     "task_602",
     "Билет 6"
    ],
    "task_id": 602
   },
   "outputs": [],
   "source": [
    "# ваш код здесь\n",
    "from random import randint\n",
    "list_ = [randint(-10, 10) for i in range (10)]\n",
    "print(list_)\n",
    "list_2 = [i for i in list_ if i < 0]\n",
    "list_ = [i for i in list_ if i >= 0]\n",
    "        \n",
    "print(list_, list_2)\n",
    "\n"
   ]
  },
  {
   "cell_type": "markdown",
   "id": "digital-turner",
   "metadata": {
    "tags": [
     "task_603",
     "Билет 6"
    ],
    "task_id": 603
   },
   "source": [
    "3. Вывести все делители числа 100 используя функцию range()."
   ]
  },
  {
   "cell_type": "code",
   "execution_count": null,
   "id": "contrary-minister",
   "metadata": {
    "tags": [
     "task_603",
     "Билет 6"
    ],
    "task_id": 603
   },
   "outputs": [],
   "source": [
    "# ваш код здесь\n",
    "num = 100\n",
    "for i in range (num + 1):\n",
    "    if(i != 0 and num % i == 0):\n",
    "        print (i)\n",
    "\n"
   ]
  },
  {
   "cell_type": "markdown",
   "id": "disturbed-access",
   "metadata": {
    "tags": [
     "Билет 7"
    ]
   },
   "source": [
    "## Билет 7"
   ]
  },
  {
   "cell_type": "markdown",
   "id": "correct-active",
   "metadata": {
    "tags": [
     "task_701",
     "Билет 7"
    ],
    "task_id": 701
   },
   "source": [
    "1. Для введенной строки выведите (на отдельной строке): \n",
    "• все символы в обратном порядке; \n",
    "• все символы строки через один в обратном порядке, начиная с последнего; \n",
    "• длину данной строки. "
   ]
  },
  {
   "cell_type": "code",
   "execution_count": null,
   "id": "fifteen-spencer",
   "metadata": {
    "tags": [
     "task_701",
     "Билет 7"
    ],
    "task_id": 701
   },
   "outputs": [],
   "source": [
    "# ваш код здесь\n",
    "text = input()\n",
    "print(text[::-1])\n",
    "print(text[::-2])\n",
    "print(len(text))\n",
    "\n",
    "\n"
   ]
  },
  {
   "cell_type": "markdown",
   "id": "shared-research",
   "metadata": {
    "tags": [
     "task_702",
     "Билет 7"
    ],
    "task_id": 702
   },
   "source": [
    "2. Треугольник задан в виде списка координат вершин (вершина представляется в виде списка из двух чисел). Проверьте, действительно ли заданные точки определяют треугольник, вычислите длины сторон, площадь и периметр треугольника. "
   ]
  },
  {
   "cell_type": "code",
   "execution_count": null,
   "id": "understood-thesis",
   "metadata": {
    "tags": [
     "task_702",
     "Билет 7"
    ],
    "task_id": 702
   },
   "outputs": [],
   "source": [
    "# ваш код здесь\n",
    "import math\n",
    "list = [[1, 2], [2, 3], [1, 3]]\n",
    "per1 = math.sqrt(pow(list[0][0] - list[1][0], 2) + pow(list[0][1] - list[1][1], 2))\n",
    "per2 = math.sqrt(pow(list[2][0] - list[1][0], 2) + pow(list[2][1] - list[1][1], 2))\n",
    "per3 = math.sqrt(pow(list[0][0] - list[2][0], 2) + pow(list[0][1] - list[2][1], 2))\n",
    "if(per1 <= abs(per2 - per3) or (per1 >= per2 + per3)):\n",
    "    print(\"Точки не образуют треугольник\")\n",
    "else:\n",
    "    perim = per1 + per2 + per3\n",
    "print(per1, per2, per3)\n",
    "print(math.sqrt((perim/2) * ((perim/ 2) - per1) * ((perim/ 2) - per2) * ((perim/ 2) - per2)))\n",
    "print(perim)\n",
    "\n",
    "\n",
    "\n"
   ]
  },
  {
   "cell_type": "markdown",
   "id": "internal-belarus",
   "metadata": {
    "tags": [
     "task_703",
     "Билет 7"
    ],
    "task_id": 703
   },
   "source": [
    "3. Создайте 2 списка из 5 случайных целых чисел от 1 до 10. \n",
    "• определите, сколько различных чисел содержат списки."
   ]
  },
  {
   "cell_type": "code",
   "execution_count": null,
   "id": "experienced-fitting",
   "metadata": {
    "tags": [
     "task_703",
     "Билет 7"
    ],
    "task_id": 703
   },
   "outputs": [],
   "source": [
    "# ваш код здесь\n",
    "\n",
    "a = np.random.randint(1, 10, 5)\n",
    "b = np.random.randint(1, 10, 5)\n",
    "list_a = list(a)\n",
    "list_b = list(b)\n",
    "print(list_a)\n",
    "print(list_b)\n",
    "set_a = set()\n",
    "set_b = set()\n",
    "for i in list_a:\n",
    "    set_a.add(i)\n",
    "print(len(set_a))\n",
    "for j in list_b:\n",
    "    set_b.add(j)\n",
    "print(len(set_b))"
   ]
  },
  {
   "cell_type": "markdown",
   "id": "private-pledge",
   "metadata": {
    "tags": [
     "Билет 8"
    ]
   },
   "source": [
    "## Билет 8"
   ]
  },
  {
   "cell_type": "markdown",
   "id": "rubber-transition",
   "metadata": {
    "tags": [
     "task_801",
     "Билет 8"
    ],
    "task_id": 801
   },
   "source": [
    "1. Строка содержит фамилию, имя и отчество, записанные через пробелы. Например « Иванов Иван Иванович». Для этой строки: выведите информацию на экран в виде словаря."
   ]
  },
  {
   "cell_type": "code",
   "execution_count": null,
   "id": "excellent-superior",
   "metadata": {
    "tags": [
     "task_801",
     "Билет 8"
    ],
    "task_id": 801
   },
   "outputs": [],
   "source": [
    "# ваш код здесь\n",
    "a = input('ФИО: ')\n",
    "a_ = list(a.split(' '))\n",
    "dict_a = dict([('Фамилия', a_[0]), ('Имя', a_[1]), ('Отчество', a_[2])])\n",
    "print(dict_a)\n"
   ]
  },
  {
   "cell_type": "markdown",
   "id": "continuing-scott",
   "metadata": {
    "tags": [
     "task_802",
     "Билет 8"
    ],
    "task_id": 802
   },
   "source": [
    "2. Напишите функцию, которая находит угол 𝛼 для треугольника со сторонами 𝑥, 𝑦, 𝑧 в градусах (воспользуйтесь функциями модуля math)."
   ]
  },
  {
   "cell_type": "code",
   "execution_count": null,
   "id": "included-publicity",
   "metadata": {
    "tags": [
     "task_802",
     "Билет 8"
    ],
    "task_id": 802
   },
   "outputs": [],
   "source": [
    "# ваш код здесь\n",
    "from math import degrees, acos\n",
    "\n",
    "x, y, z = map(int, input().split(' '))\n",
    "\n",
    "#x = y + z - 2*y*z*x_\n",
    "#x_ = (x**2 - y**2 - z**2)/(-2*y*z)\n",
    "#print(x_)\n",
    "#print(math.degrees(x_))\n",
    "x_ = degrees(acos((x**2 - y**2 - z**2)/(-2*y*z)))\n",
    "y_ = degrees(acos((y**2 - x**2 - z**2)/(-2*x*z)))\n",
    "z_ = degrees(acos((z**2 - x**2 - y**2)/(-2*x*y)))\n",
    "#print(degrees(acos((x**2 - y**2 - z**2)/(-2*y*z))))\n",
    "print(x_, y_, z_)\n"
   ]
  },
  {
   "cell_type": "markdown",
   "id": "hidden-championship",
   "metadata": {
    "tags": [
     "task_803",
     "Билет 8"
    ],
    "task_id": 803
   },
   "source": [
    "3. Имеются 2 списка целых чисел, упорядоченные по возрастанию. Получите новый список, содержащий все элементы исходных списков, в котором элементы также упорядочены в порядке возрастания, не используя сортировку."
   ]
  },
  {
   "cell_type": "code",
   "execution_count": null,
   "id": "secure-surrey",
   "metadata": {
    "tags": [
     "task_803",
     "Билет 8"
    ],
    "task_id": 803
   },
   "outputs": [],
   "source": [
    "# ваш код здесь\n",
    "\n",
    "n = int(input())\n",
    "list1 = []\n",
    "for i in range(n):\n",
    "    i_ = int(input())\n",
    "    list1.append(i_)\n",
    "    list1.sort()\n",
    "m = int(input())\n",
    "list2 = []\n",
    "for j in range(m):\n",
    "    j_ = int(input())\n",
    "    list2.append(j_)\n",
    "    list2.sort()\n",
    "#print(list1, list2)\n",
    "list3 = list1 + list2\n",
    "#недоделано"
   ]
  },
  {
   "cell_type": "markdown",
   "id": "binary-update",
   "metadata": {
    "tags": [
     "Билет 9"
    ]
   },
   "source": [
    "## Билет 9"
   ]
  },
  {
   "cell_type": "markdown",
   "id": "numerical-secretariat",
   "metadata": {
    "tags": [
     "task_901",
     "Билет 9"
    ],
    "task_id": 901
   },
   "source": [
    "1. Напишите проверку на то, является ли строка палиндромом. Палиндром — это слово или фраза, которые одинаково читаются слева направо и справа налево."
   ]
  },
  {
   "cell_type": "code",
   "execution_count": null,
   "id": "informal-russell",
   "metadata": {
    "tags": [
     "task_901",
     "Билет 9"
    ],
    "task_id": 901
   },
   "outputs": [],
   "source": [
    "# ваш код здесь\n",
    "text = input()\n",
    "text2 = text[::-1]\n",
    "if(text == text2):\n",
    "    print(\"это слово является палиндромом\")\n",
    "else:\n",
    "    print(\"это слово не является палиндромом\")\n",
    "\n",
    "\n"
   ]
  },
  {
   "cell_type": "markdown",
   "id": "dying-bride",
   "metadata": {
    "tags": [
     "task_902",
     "Билет 9"
    ],
    "task_id": 902
   },
   "source": [
    "2. Напишите функцию, которая для заданного радиуса r вычисляет площадь круга и длину окружности. Функция возвращает кортеж из 2 значений."
   ]
  },
  {
   "cell_type": "code",
   "execution_count": null,
   "id": "apparent-perspective",
   "metadata": {
    "tags": [
     "task_902",
     "Билет 9"
    ],
    "task_id": 902
   },
   "outputs": [],
   "source": [
    "# ваш код здесь\n",
    "r = int(input())\n",
    "list_ = []\n",
    "list_.append(3.14 * (r ** 2))\n",
    "list_.append(2 * 3.14 * r)\n",
    "print(tuple(list_))\n",
    "\n"
   ]
  },
  {
   "cell_type": "markdown",
   "id": "million-checkout",
   "metadata": {
    "tags": [
     "task_903",
     "Билет 9"
    ],
    "task_id": 903
   },
   "source": [
    "3. С клавиатуры вводятся n целых чисел. Найти минимальное положительное и максимальное отрицательное числа."
   ]
  },
  {
   "cell_type": "code",
   "execution_count": null,
   "id": "growing-negotiation",
   "metadata": {
    "tags": [
     "task_903",
     "Билет 9"
    ],
    "task_id": 903
   },
   "outputs": [],
   "source": [
    "# ваш код здесь\n",
    "n = int(input())\n",
    "min_ = -1\n",
    "max_ = 1\n",
    "for i in range (n):\n",
    "    per = int(input())\n",
    "    if(per > 0 and min_ > per):\n",
    "        min_ = per\n",
    "    if(per < 0 and max_ < per):\n",
    "        max_ = per\n",
    "print(min_, max_)\n",
    "\n"
   ]
  },
  {
   "cell_type": "markdown",
   "id": "lonely-texture",
   "metadata": {
    "tags": [
     "Билет 10"
    ]
   },
   "source": [
    "## Билет 10"
   ]
  },
  {
   "cell_type": "markdown",
   "id": "pleasant-rebate",
   "metadata": {
    "tags": [
     "task_1001",
     "Билет 10"
    ],
    "task_id": 1001
   },
   "source": [
    "1. Написать функцию, которая принимает два числа и возвращает большее из них."
   ]
  },
  {
   "cell_type": "code",
   "execution_count": 15,
   "id": "parallel-performance",
   "metadata": {
    "tags": [
     "task_1001",
     "Билет 10"
    ],
    "task_id": 1001
   },
   "outputs": [
    {
     "name": "stdout",
     "output_type": "stream",
     "text": [
      "Введите число 1: 85\n",
      "Введите число 2: 32\n",
      "Наибольшее число:\n",
      "85\n"
     ]
    }
   ],
   "source": [
    "# ваш код здесь\n",
    "a = int(input('Введите число 1: '))\n",
    "b = int(input('Введите число 2: '))\n",
    "\n",
    "def max_(x,y):\n",
    "     return(max(x,y))\n",
    "print('Наибольшее число:')\n",
    "print(max_(a,b))\n",
    "\n"
   ]
  },
  {
   "cell_type": "markdown",
   "id": "novel-stone",
   "metadata": {
    "tags": [
     "task_1002",
     "Билет 10"
    ],
    "task_id": 1002
   },
   "source": [
    "2. Создайте 2 списка из 5 случайных целых чисел от 1 до 10. \n",
    "• определите, сколько различных чисел содержится одновременно как в первом списке, так и во втором."
   ]
  },
  {
   "cell_type": "code",
   "execution_count": 5,
   "id": "valued-jerusalem",
   "metadata": {
    "tags": [
     "task_1002",
     "Билет 10"
    ],
    "task_id": 1002
   },
   "outputs": [
    {
     "name": "stdout",
     "output_type": "stream",
     "text": [
      "[4, 4, 1, 2, 7] [2, 10, 7, 6, 2]\n",
      "2\n"
     ]
    }
   ],
   "source": [
    "# ваш код здесь\n",
    "from random import randint\n",
    "list1 = []\n",
    "for i in range(5):\n",
    "    list1.append(randint(1, 10))\n",
    "list2 = []\n",
    "for i in range(5):\n",
    "    list2.append(randint(1, 10))\n",
    "print(list1, list2)\n",
    "print(len(set(list1) & set(list2)))\n"
   ]
  },
  {
   "cell_type": "markdown",
   "id": "furnished-vienna",
   "metadata": {
    "tags": [
     "task_1003",
     "Билет 10"
    ],
    "task_id": 1003
   },
   "source": [
    "3. На основе переданной строки (не содержащей повторяющихся символов) создать словарь, в котором каждому символу строки будет соответствовать номер символа в строке. Пример: строка 'abcdef', словарь {'a': 1, 'b': 2, 'c': 3, 'd': 4}"
   ]
  },
  {
   "cell_type": "code",
   "execution_count": 10,
   "id": "empty-crime",
   "metadata": {
    "tags": [
     "task_1003",
     "Билет 10"
    ],
    "task_id": 1003
   },
   "outputs": [
    {
     "name": "stdout",
     "output_type": "stream",
     "text": [
      "Введите строку: лащед\n",
      "{'л': 1, 'а': 2, 'щ': 3, 'е': 4}\n"
     ]
    }
   ],
   "source": [
    "# ваш код здесь\n",
    "a = str(input('Введите строку не содержащую повторяющихся символов: '))\n",
    "j = {a[0]: a.index(a[1]), a[1]: a.index(a[2]), a[2]: a.index(a[3]), a[3]: a.index(a[4])}\n",
    "print(j)\n"
   ]
  },
  {
   "cell_type": "markdown",
   "id": "metallic-watts",
   "metadata": {
    "tags": [
     "Билет 11"
    ]
   },
   "source": [
    "## Билет 11"
   ]
  },
  {
   "cell_type": "markdown",
   "id": "moral-google",
   "metadata": {
    "tags": [
     "task_1101",
     "Билет 11"
    ],
    "task_id": 1101
   },
   "source": [
    "1. Записать функцию, которая проверяет есть ли в строке символ «а»."
   ]
  },
  {
   "cell_type": "code",
   "execution_count": 24,
   "id": "happy-copyright",
   "metadata": {
    "tags": [
     "task_1101",
     "Билет 11"
    ],
    "task_id": 1101
   },
   "outputs": [
    {
     "name": "stdout",
     "output_type": "stream",
     "text": [
      "Введите строку: рдпдждржапр\n",
      "Результат:\n",
      "Символ \"а\" есть в строке\n",
      "None\n"
     ]
    }
   ],
   "source": [
    "# ваш код здесь\n",
    "stroka = str(input('Введите строку: '))\n",
    "\n",
    "def f(stroka):\n",
    "    if 'а' in stroka:\n",
    "        print('Символ \"а\" есть в строке')\n",
    "    else:\n",
    "        print('Символа \"а\" нет в строке')\n",
    "        return f(stroka)\n",
    "        \n",
    "print('Результат:')\n",
    "print(f(stroka))\n",
    "\n",
    "\n",
    "\n",
    "\n",
    "\n",
    "\n"
   ]
  },
  {
   "cell_type": "markdown",
   "id": "engaging-outside",
   "metadata": {
    "tags": [
     "task_1102",
     "Билет 11"
    ],
    "task_id": 1102
   },
   "source": [
    "2. С клавиатуры вводятся n целых чисел. Найти среди них наименьшее нечетное число."
   ]
  },
  {
   "cell_type": "code",
   "execution_count": 8,
   "id": "disciplinary-shepherd",
   "metadata": {
    "tags": [
     "task_1102",
     "Билет 11"
    ],
    "task_id": 1102
   },
   "outputs": [
    {
     "name": "stdout",
     "output_type": "stream",
     "text": [
      "Введите количество чисел:3\n",
      "Введите числа:6\n",
      "Введите числа:471\n",
      "Введите числа:543\n",
      "471\n"
     ]
    }
   ],
   "source": [
    "# ваш код здесь\n",
    "list_ = []\n",
    "n = int(input('Введите количество чисел:'))\n",
    "for i in range(n):\n",
    "    per = int(input('Введите числа:'))\n",
    "    if(per % 2 != 0):\n",
    "        list_.append(per)\n",
    "print(min(list_))\n",
    "\n",
    "\n"
   ]
  },
  {
   "cell_type": "markdown",
   "id": "central-russian",
   "metadata": {
    "tags": [
     "task_1103",
     "Билет 11"
    ],
    "task_id": 1103
   },
   "source": [
    "3. Имеется список названий месяцев: [‘января’, ‘февраля’, ‘марта’, ‘апреля’, ’мая’, ‘июня’, ‘июля’, ‘августа’, ‘сентября’, ‘октября’, ‘ноября’, ‘декабря’]. Создайте по этому списку словарь, в котором название месяца будет ключом, а номер месяца (от 1 до 12) – значением."
   ]
  },
  {
   "cell_type": "code",
   "execution_count": 3,
   "id": "amazing-integrity",
   "metadata": {
    "tags": [
     "task_1103",
     "Билет 11"
    ],
    "task_id": 1103
   },
   "outputs": [
    {
     "name": "stdout",
     "output_type": "stream",
     "text": [
      "{'январь': 1, 'февраль': 2, 'март': 3, 'апрель': 4, 'май': 5, 'июнь': 6, 'июль': 7, 'август': 8, 'сентябрь': 9, 'октябрь': 10, 'ноябрь': 11, 'декабрь': 12}\n"
     ]
    }
   ],
   "source": [
    "# ваш код здесь\n",
    "dict = {'январь': 1, 'февраль': 2, 'март' : 3, 'апрель' : 4, 'май' : 5, 'июнь' : 6, 'июль' : 7, 'август' : 8, 'сентябрь' : 9, 'октябрь' : 10, 'ноябрь': 11, 'декабрь': 12}\n",
    "print(dict)\n"
   ]
  },
  {
   "cell_type": "markdown",
   "id": "seventh-nerve",
   "metadata": {
    "tags": [
     "Билет 12"
    ]
   },
   "source": [
    "## Билет 12"
   ]
  },
  {
   "cell_type": "markdown",
   "id": "medium-sheet",
   "metadata": {
    "tags": [
     "task_1201",
     "Билет 12"
    ],
    "task_id": 1201
   },
   "source": [
    "1. Написать функцию, которая принимает два числа и возвращает большее из них."
   ]
  },
  {
   "cell_type": "code",
   "execution_count": 23,
   "id": "applied-pulse",
   "metadata": {
    "tags": [
     "task_1201",
     "Билет 12"
    ],
    "task_id": 1201
   },
   "outputs": [
    {
     "name": "stdout",
     "output_type": "stream",
     "text": [
      "Введите число 1: 554\n",
      "Введите число 2: 54\n",
      "Наибольшее число:\n",
      "554\n"
     ]
    }
   ],
   "source": [
    "# ваш код здесь\n",
    "a = int(input('Введите число 1: '))\n",
    "b = int(input('Введите число 2: '))\n",
    "\n",
    "def max_(x,y):\n",
    "     return(max(x,y))\n",
    "print('Наибольшее число:')\n",
    "print(max_(a,b))\n",
    "\n"
   ]
  },
  {
   "cell_type": "markdown",
   "id": "varied-divide",
   "metadata": {
    "tags": [
     "task_1202",
     "Билет 12"
    ],
    "task_id": 1202
   },
   "source": [
    "2. Во множестве thisset = {\"set\", \"list\", \"tuple\"} проверить есть ли элемент \"new\"."
   ]
  },
  {
   "cell_type": "code",
   "execution_count": 13,
   "id": "medium-atlantic",
   "metadata": {
    "tags": [
     "task_1202",
     "Билет 12"
    ],
    "task_id": 1202
   },
   "outputs": [
    {
     "name": "stdout",
     "output_type": "stream",
     "text": [
      "false\n"
     ]
    }
   ],
   "source": [
    "# ваш код здесь\n",
    "\n",
    "thisset = {'set', 'list', 'tuple'}\n",
    "if 'new' in thisset:\n",
    "    print('true')\n",
    "else:\n",
    "    print('false')\n"
   ]
  },
  {
   "cell_type": "markdown",
   "id": "amazing-kinase",
   "metadata": {
    "tags": [
     "task_1203",
     "Билет 12"
    ],
    "task_id": 1203
   },
   "source": [
    "3. На основе переданной строки (не содержащей повторяющихся символов) создать словарь, в котором каждому символу строки будет соответствовать номер символа в строке. Использовать генераторы, решить задачу в одну строку. Пример: строка 'abcdef', словарь {'a': 1, 'b': 2, 'c': 3, 'd': 4}"
   ]
  },
  {
   "cell_type": "code",
   "execution_count": 12,
   "id": "boxed-intensity",
   "metadata": {
    "tags": [
     "task_1203",
     "Билет 12"
    ],
    "task_id": 1203
   },
   "outputs": [
    {
     "name": "stdout",
     "output_type": "stream",
     "text": [
      "Введите строку не содержащую повторяющихся символов: jgpri\n",
      "{'j': 1, 'g': 2, 'p': 3, 'r': 4}\n"
     ]
    }
   ],
   "source": [
    "# ваш код здесь\n",
    "a = str(input('Введите строку не содержащую повторяющихся символов: '))\n",
    "print({a[0]: a.index(a[1]), a[1]: a.index(a[2]), a[2]: a.index(a[3]), a[3]: a.index(a[4])})\n",
    "\n"
   ]
  },
  {
   "cell_type": "markdown",
   "id": "sunset-coverage",
   "metadata": {
    "tags": [
     "Билет 13"
    ]
   },
   "source": [
    "## Билет 13"
   ]
  },
  {
   "cell_type": "markdown",
   "id": "relevant-gather",
   "metadata": {
    "tags": [
     "task_1301",
     "Билет 13"
    ],
    "task_id": 1301
   },
   "source": [
    "1. Вывести элементы множества поэлементно на каждой строке."
   ]
  },
  {
   "cell_type": "code",
   "execution_count": 38,
   "id": "offshore-senegal",
   "metadata": {
    "tags": [
     "task_1301",
     "Билет 13"
    ],
    "task_id": 1301
   },
   "outputs": [
    {
     "name": "stdout",
     "output_type": "stream",
     "text": [
      "Введите строку: приве тпедики\n",
      "п\n",
      "р\n",
      "и\n",
      "в\n",
      "е\n",
      " \n",
      "т\n",
      "п\n",
      "е\n",
      "д\n",
      "и\n",
      "к\n",
      "и\n"
     ]
    }
   ],
   "source": [
    "# ваш код здесь\n",
    "a = str(input('Введите строку: ' ))\n",
    "print(*a, sep='\\n')\n",
    "\n"
   ]
  },
  {
   "cell_type": "markdown",
   "id": "municipal-falls",
   "metadata": {
    "tags": [
     "task_1302",
     "Билет 13"
    ],
    "task_id": 1302
   },
   "source": [
    "2. Даны два словаря: dictionary_1 = {'a': 300, 'b': 400} и dictionary_2 = {'c': 500, 'd': 600}. Объедините их в один при помощи встроенных функций языка Python."
   ]
  },
  {
   "cell_type": "code",
   "execution_count": 16,
   "id": "instructional-circumstances",
   "metadata": {
    "tags": [
     "task_1302",
     "Билет 13"
    ],
    "task_id": 1302
   },
   "outputs": [
    {
     "name": "stdout",
     "output_type": "stream",
     "text": [
      "{'a': 300, 'b': 400, 'c': 500, 'd': 600}\n"
     ]
    }
   ],
   "source": [
    "# ваш код здесь\n",
    "dictionary_1 = {'a': 300, 'b': 400}  \n",
    "dictionary_2 = {'c': 500, 'd': 600}\n",
    "x = {**dictionary_1, **dictionary_2}\n",
    "print(x)\n"
   ]
  },
  {
   "cell_type": "markdown",
   "id": "conceptual-costa",
   "metadata": {
    "tags": [
     "task_1303",
     "Билет 13"
    ],
    "task_id": 1303
   },
   "source": [
    "3. Вычислить значение F: F=1, если цифра 7 входит в запись заданного трехзначного числа, и 0 – в противном случае."
   ]
  },
  {
   "cell_type": "code",
   "execution_count": 29,
   "id": "equipped-insulation",
   "metadata": {
    "tags": [
     "task_1303",
     "Билет 13"
    ],
    "task_id": 1303
   },
   "outputs": [
    {
     "name": "stdout",
     "output_type": "stream",
     "text": [
      "Введите трёхзначное число: 454\n",
      "F = 0\n"
     ]
    }
   ],
   "source": [
    "# ваш код здесь\n",
    "F = (input('Введите трёхзначное число: '))\n",
    "if '7' in F:\n",
    "    print('F = 1')\n",
    "else:\n",
    "    print('F = 0')\n",
    "\n"
   ]
  },
  {
   "cell_type": "markdown",
   "id": "lucky-taste",
   "metadata": {
    "tags": [
     "Билет 14"
    ]
   },
   "source": [
    "## Билет 14"
   ]
  },
  {
   "cell_type": "markdown",
   "id": "composite-beginning",
   "metadata": {
    "tags": [
     "task_1401",
     "Билет 14"
    ],
    "task_id": 1401
   },
   "source": [
    "#### 1. Дан словарь с числовыми значениями. Необходимо их все перемножить и вывести на экран/"
   ]
  },
  {
   "cell_type": "code",
   "execution_count": null,
   "id": "further-credit",
   "metadata": {
    "tags": [
     "task_1401",
     "Билет 14"
    ],
    "task_id": 1401
   },
   "outputs": [],
   "source": [
    "# ваш код здесь\n",
    "dict_ = {'1':42, '2':100, '3':7}\n",
    "\n",
    "result = 1 \n",
    "\n",
    "for key in dict_:\n",
    "    result = result * dict_[key]\n",
    "\n",
    "print(result)\n"
   ]
  },
  {
   "cell_type": "markdown",
   "id": "stupid-rabbit",
   "metadata": {
    "tags": [
     "task_1402",
     "Билет 14"
    ],
    "task_id": 1402
   },
   "source": [
    "2. Напишите программу, которая вычисляет минимальное целое положительное число среди введенных значений. Признаком конца ввода является символ «.»."
   ]
  },
  {
   "cell_type": "code",
   "execution_count": null,
   "id": "sticky-mixer",
   "metadata": {
    "tags": [
     "task_1402",
     "Билет 14"
    ],
    "task_id": 1402
   },
   "outputs": [],
   "source": [
    "# ваш код здесь\n",
    "# хз\n"
   ]
  },
  {
   "cell_type": "markdown",
   "id": "antique-variance",
   "metadata": {
    "tags": [
     "task_1403",
     "Билет 14"
    ],
    "task_id": 1403
   },
   "source": [
    "3. Не используя метод count, для заданной строки выполните: если символ * встречается в строке только один раз, выведите его индекс."
   ]
  },
  {
   "cell_type": "code",
   "execution_count": null,
   "id": "hollywood-antique",
   "metadata": {
    "tags": [
     "task_1403",
     "Билет 14"
    ],
    "task_id": 1403
   },
   "outputs": [],
   "source": [
    "# ваш код здесь\n",
    "a = input()\n",
    "\n",
    "first_pos = a.find(\"*\")\n",
    "\n",
    "if first_pos != -1:\n",
    "    second_pos = a.find(\"*\", first_pos + 1)\n",
    "    \n",
    "if second_pos == -1:\n",
    "    print(first_pos)\n",
    "\n",
    "else:\n",
    "    print(\"Встречается больше 1 раза\")\n"
   ]
  },
  {
   "cell_type": "markdown",
   "id": "systematic-rebound",
   "metadata": {
    "tags": [
     "Билет 15"
    ]
   },
   "source": [
    "## Билет 15"
   ]
  },
  {
   "cell_type": "markdown",
   "id": "greek-optics",
   "metadata": {
    "tags": [
     "task_1501",
     "Билет 15"
    ],
    "task_id": 1501
   },
   "source": [
    "1. Реализовать калькулятор, который принимает от пользователя через пробел строку следующего вида: «a op b», где a и b – некоторые числа, а ‘op’ определяет оператор и может принимать значения «+,-,*,/,**,%». В зависимости от оператора с помощью форматирования строк вывести результат в виде: «a + b = 3 + 2 = 5», где была получена строка «3 + 2». Для операций возведения в степень и деления по модулю использовать вместо знака оператора соответствующие выражения. Например, для строки «2 ** 3» должно быть выведено «a в степени b = 2 в степени 3 = 8»."
   ]
  },
  {
   "cell_type": "code",
   "execution_count": null,
   "id": "public-delay",
   "metadata": {
    "tags": [
     "task_1501",
     "Билет 15"
    ],
    "task_id": 1501
   },
   "outputs": [],
   "source": [
    "# ваш код здесь\n",
    "equation = input()\n",
    "\n",
    "if equation.find(\"%\") != -1:\n",
    "    print(\"a, делённое по модулю b =\", equation, \"=\", eval(equation))\n",
    "\n",
    "elif equation.find(\"**\") != -1:\n",
    "    print(\"a в степени b =\", equation, \"=\", eval(equation))\n",
    "\n",
    "else:\n",
    "    print(\"a + b =\", equation, \"=\", eval(equation))\n"
   ]
  },
  {
   "cell_type": "markdown",
   "id": "apart-frame",
   "metadata": {
    "tags": [
     "task_1502",
     "Билет 15"
    ],
    "task_id": 1502
   },
   "source": [
    "2. Реализовать функцию my_func(), которая принимает три позиционных аргумента, и возвращает сумму наибольших двух аргументов."
   ]
  },
  {
   "cell_type": "code",
   "execution_count": null,
   "id": "amateur-snake",
   "metadata": {
    "tags": [
     "task_1502",
     "Билет 15"
    ],
    "task_id": 1502
   },
   "outputs": [],
   "source": [
    "# ваш код здесь\n",
    "def my_func(a, b, c):\n",
    "    a = int(input())\n",
    "    b = int(input())\n",
    "    c = int(input())\n",
    "    \n",
    "    if a == min(a, b, c):\n",
    "        print(b+c)\n",
    "    \n",
    "    elif b == min(a, b, c):\n",
    "        print(a+c)\n",
    "    \n",
    "    else:\n",
    "        print(a+b)\n",
    "        \n",
    "my_func(a, b, c)\n"
   ]
  },
  {
   "cell_type": "markdown",
   "id": "developing-sport",
   "metadata": {
    "tags": [
     "task_1503",
     "Билет 15"
    ],
    "task_id": 1503
   },
   "source": [
    "3. Даны два списка одинаковой длины. Необходимо создать из них словарь таким образом, чтобы элементы первого списка были ключами, а элементы второго — соответственно значениями нашего словаря."
   ]
  },
  {
   "cell_type": "code",
   "execution_count": null,
   "id": "numeric-thomas",
   "metadata": {
    "tags": [
     "task_1503",
     "Билет 15"
    ],
    "task_id": 1503
   },
   "outputs": [],
   "source": [
    "# ваш код здесь\n",
    "names = ['Alice', 'Michael']\n",
    "surnames = ['Cooper', 'Jackson']\n",
    "\n",
    "print(dict(zip(names, surnames)))\n"
   ]
  },
  {
   "cell_type": "markdown",
   "id": "incorporated-blake",
   "metadata": {
    "tags": [
     "Билет 16"
    ]
   },
   "source": [
    "## Билет 16"
   ]
  },
  {
   "cell_type": "markdown",
   "id": "automated-institution",
   "metadata": {
    "tags": [
     "task_1601",
     "Билет 16"
    ],
    "task_id": 1601
   },
   "source": [
    "1. Дан словарь с числовыми значениями. Необходимо их все перемножить и вывести на экран."
   ]
  },
  {
   "cell_type": "code",
   "execution_count": null,
   "id": "shaped-sending",
   "metadata": {
    "tags": [
     "task_1601",
     "Билет 16"
    ],
    "task_id": 1601
   },
   "outputs": [],
   "source": [
    "# ваш код здесь\n",
    "dict_ = {'1':42, '2':100, '3':7}\n",
    "\n",
    "result = 1 \n",
    "\n",
    "for key in dict_:\n",
    "    result *= dict_[key]\n",
    "\n",
    "print(result)\n"
   ]
  },
  {
   "cell_type": "markdown",
   "id": "separate-watts",
   "metadata": {
    "tags": [
     "task_1602",
     "Билет 16"
    ],
    "task_id": 1602
   },
   "source": [
    "2. Реализовать функцию, принимающую два числа (позиционные аргументы) и выполняющую их деление. Числа запрашивать у пользователя, предусмотреть обработку ситуации деления на ноль."
   ]
  },
  {
   "cell_type": "code",
   "execution_count": null,
   "id": "regional-immunology",
   "metadata": {
    "tags": [
     "task_1602",
     "Билет 16"
    ],
    "task_id": 1602
   },
   "outputs": [],
   "source": [
    "# ваш код здесь\n",
    "def divide(a, b):\n",
    "    a = int(input())\n",
    "    b = int(input())\n",
    "    \n",
    "    if b == 0:\n",
    "        return \"Деление невозможно\"\n",
    "            \n",
    "    else:\n",
    "        return a/b\n",
    "    \n",
    "divide(a, b)\n"
   ]
  },
  {
   "cell_type": "markdown",
   "id": "loving-constant",
   "metadata": {
    "tags": [
     "task_1603",
     "Билет 16"
    ],
    "task_id": 1603
   },
   "source": [
    "3. Даны два словаря: dictionary_1 = {'a': 300, 'b': 400} и dictionary_2 = {'c': 500, 'd': 600}. Объедините их в один при помощи встроенных функций языка Python."
   ]
  },
  {
   "cell_type": "code",
   "execution_count": null,
   "id": "federal-vancouver",
   "metadata": {
    "tags": [
     "task_1603",
     "Билет 16"
    ],
    "task_id": 1603
   },
   "outputs": [],
   "source": [
    "# ваш код здесь\n",
    "dictionary_1 = {'a': 300, 'b': 400}\n",
    "dictionary_2 = {'c': 500, 'd': 600}\n",
    "\n",
    "print({**dictionary_1,**dictionary_2})\n"
   ]
  },
  {
   "cell_type": "markdown",
   "id": "proprietary-recommendation",
   "metadata": {
    "tags": [
     "Билет 17"
    ]
   },
   "source": [
    "## Билет 17"
   ]
  },
  {
   "cell_type": "markdown",
   "id": "closing-morgan",
   "metadata": {
    "tags": [
     "task_1701",
     "Билет 17"
    ],
    "task_id": 1701
   },
   "source": [
    "1. Реализовать структуру данных «Товары». Она должна представлять собой список кортежей. Каждый кортеж хранит информацию об отдельном товаре. В кортеже должно быть два элемента — номер товара и словарь с параметрами (характеристиками товара: название, цена, количество, единица измерения). Структуру нужно сформировать программно, т.е. запрашивать все данные у пользователя.\n",
    "Пример готовой структуры: \n",
    "[\n",
    "    (1, {“название”: “компьютер”, “цена”: 20000, “количество”: 5, “eд”: “шт.”}),\n",
    "    (2, {“название”: “принтер”, “цена”: 6000, “количество”: 2, “eд”: “шт.”}), \n",
    "    (3, {“название”: “сканер”, “цена”: 2000, “количество”: 7, “eд”: “шт.”})\n",
    "]\n",
    "Необходимо собрать аналитику о товарах. Реализовать словарь, в котором каждый ключ — характеристика товара, например название, а значение — список значений-характеристик, например список названий товаров.\n",
    "Пример:\n",
    "{\n",
    "    “название”: [“компьютер”, “принтер”, “сканер”],\n",
    "    “цена”: [20000, 6000, 2000],\n",
    "    “количество”: [5, 2, 7],\n",
    "    “ед”: [“шт.”]\n",
    "}"
   ]
  },
  {
   "cell_type": "code",
   "execution_count": null,
   "id": "suspended-agriculture",
   "metadata": {
    "tags": [
     "task_1701",
     "Билет 17"
    ],
    "task_id": 1701
   },
   "outputs": [],
   "source": [
    "# ваш код здесь\n",
    "goods = []\n",
    "\n",
    "amount = int(input('Введите количество товаров'))\n",
    "\n",
    "statistic = {\"название\": [], \"цена\": [], \"количество\": [], \"eд\": []}\n",
    "\n",
    "for i in range(amount):\n",
    "    number = int(input('введите номер товара '))\n",
    "    name = input('введите его название ')\n",
    "    cost = int(input('введите цену '))\n",
    "    item_amount = int(input('введите количество товара '))\n",
    "    num = input('введите ед. измерения товара ')\n",
    "    goods.append((number, {\"название\": name, \"цена\": cost, \"количество\": item_amount, \"eд\": num}))\n",
    "    \n",
    "    \n",
    "for item in goods:\n",
    "    statistic[\"название\"].append(item[1][\"название\"])\n",
    "    statistic[\"цена\"].append(item[1][\"цена\"])\n",
    "    statistic[\"количество\"].append(item[1][\"количество\"])\n",
    "    statistic[\"eд\"].append(item[1][\"eд\"])\n",
    "                 \n",
    "print(goods)\n",
    "print(statistic)\n"
   ]
  },
  {
   "cell_type": "markdown",
   "id": "diverse-differential",
   "metadata": {
    "tags": [
     "task_1702",
     "Билет 17"
    ],
    "task_id": 1702
   },
   "source": [
    "2. Не используя метод count, для заданной строки выполните: если символ * встречается два и более раз, выведите индекс его первого, второго и последнего вхождения, удалите первый и последний символ * из строки. "
   ]
  },
  {
   "cell_type": "code",
   "execution_count": null,
   "id": "disciplinary-observer",
   "metadata": {
    "tags": [
     "task_1702",
     "Билет 17"
    ],
    "task_id": 1702
   },
   "outputs": [],
   "source": [
    "# ваш код здесь\n",
    "a = input()\n",
    "\n",
    "first_pos = a.find(\"*\")\n",
    "\n",
    "if first_pos != -1:\n",
    "    second_pos = a.find(\"*\", first_pos + 1)\n",
    "    last_pos = a.find(\"*\", second_pos + 1)\n",
    "    \n",
    "if last_pos < 0:\n",
    "    last_pos = second_pos\n",
    "\n",
    "if second_pos != -1:\n",
    "    print(first_pos, second_pos, last_pos)\n",
    "\n",
    "else:\n",
    "    print(\"Встречается меньше 2 раз\")\n",
    "    \n",
    "# как удалить первый и последний символ?\n"
   ]
  },
  {
   "cell_type": "markdown",
   "id": "noted-communication",
   "metadata": {
    "tags": [
     "task_1703",
     "Билет 17"
    ],
    "task_id": 1703
   },
   "source": [
    "3. Создайте словарь, в котором ключами будут числа от 1 до 10, а значениями эти же числа, возведенные в куб."
   ]
  },
  {
   "cell_type": "code",
   "execution_count": null,
   "id": "played-klein",
   "metadata": {
    "tags": [
     "task_1703",
     "Билет 17"
    ],
    "task_id": 1703
   },
   "outputs": [],
   "source": [
    "# ваш код здесь\n",
    "print({x: x**3 for x in (range(1,11))})\n"
   ]
  },
  {
   "cell_type": "markdown",
   "id": "ongoing-procurement",
   "metadata": {
    "tags": [
     "Билет 18"
    ]
   },
   "source": [
    "## Билет 18"
   ]
  },
  {
   "cell_type": "markdown",
   "id": "plain-prince",
   "metadata": {
    "tags": [
     "task_1801",
     "Билет 18"
    ],
    "task_id": 1801
   },
   "source": [
    "1. Вводится целое число. Выведите его на экран и допишите к нему слова «рубль», «рубля» или «рублей» в зависимости от значения. Алгоритм: \n",
    "• исключение: если число оканчивается на 11, 12, 13 или 14, добавляем слово «рублей»; \n",
    "• если число оканчивается на 1, добавляем слово «рубль»; \n",
    "• если число оканчивается на 2, 3 или 4, добавляем слово «рубля»; \n",
    "• если число оканчивается на цифры 5, 6, 7, 8, 9 или 0, добавляем слово «рублей»."
   ]
  },
  {
   "cell_type": "code",
   "execution_count": null,
   "id": "unlikely-parks",
   "metadata": {
    "tags": [
     "task_1801",
     "Билет 18"
    ],
    "task_id": 1801
   },
   "outputs": [],
   "source": [
    "# ваш код здесь\n",
    "number = int(input())\n",
    "\n",
    "if number // 100 in [11, 12, 13, 14]:\n",
    "    print(number, \"рублей\")\n",
    "elif a % 10 == 1:\n",
    "    print(number, \"рубль\")\n",
    "elif a % 10 in [2, 3, 4]:\n",
    "    print(number, \"рубля\")\n",
    "elif a % 10 in [5, 6, 7, 8, 9, 0]:\n",
    "    print(number, \"рублей\")\n",
    "\n",
    "\n"
   ]
  },
  {
   "cell_type": "markdown",
   "id": "mathematical-separate",
   "metadata": {
    "tags": [
     "task_1802",
     "Билет 18"
    ],
    "task_id": 1802
   },
   "source": [
    "2. Даны два списка одинаковой длины. Необходимо создать из них словарь таким образом, чтобы элементы первого списка были ключами, а элементы второго — соответственно значениями нашего словаря."
   ]
  },
  {
   "cell_type": "code",
   "execution_count": null,
   "id": "medical-quantum",
   "metadata": {
    "tags": [
     "task_1802",
     "Билет 18"
    ],
    "task_id": 1802
   },
   "outputs": [],
   "source": [
    "# ваш код здесь\n",
    "list1 = [\"qwerty\", \"ytrewq\"]\n",
    "list2 = [\"a\", \"b\"]\n",
    "dict_ = {list1[i]: list2[i] for i in range (len(list1))}\n",
    "print(dict_)\n"
   ]
  },
  {
   "cell_type": "markdown",
   "id": "cooperative-nightmare",
   "metadata": {
    "tags": [
     "task_1803",
     "Билет 18"
    ],
    "task_id": 1803
   },
   "source": [
    "3. Создайте словарь, в котором ключами будут числа от 1 до 10, а значениями эти же числа, возведенные в куб."
   ]
  },
  {
   "cell_type": "code",
   "execution_count": null,
   "id": "pressing-basement",
   "metadata": {
    "tags": [
     "task_1803",
     "Билет 18"
    ],
    "task_id": 1803
   },
   "outputs": [],
   "source": [
    "# ваш код здесь\n",
    "dict_ = {i: i ** 3 for i in range (10)}\n",
    "print(dict_)\n"
   ]
  },
  {
   "cell_type": "markdown",
   "id": "contained-exercise",
   "metadata": {
    "tags": [
     "Билет 19"
    ]
   },
   "source": [
    "## Билет 19"
   ]
  },
  {
   "cell_type": "markdown",
   "id": "attempted-philippines",
   "metadata": {
    "tags": [
     "task_1901",
     "Билет 19"
    ],
    "task_id": 1901
   },
   "source": [
    "1. Напишите программу, которая в зависимости от введенного пользователем числа N, осуществляет вывод N кошек на экран. Пусть 1<=N<=10.\n",
    "Примечание: кошки при N=3 выглядят примерно так\n",
    "     /\\__/\\       /\\__/\\       /\\__/    /@ @\\     /@ @\\     /@ @   (~~0~~)  (~~0~~)  (~~0~~)\n"
   ]
  },
  {
   "cell_type": "code",
   "execution_count": null,
   "id": "annual-individual",
   "metadata": {
    "tags": [
     "task_1901",
     "Билет 19"
    ],
    "task_id": 1901
   },
   "outputs": [],
   "source": [
    "# ваш код здесь\n",
    "N = int(input())\n",
    "\n",
    "print(\" /\\\\__/\\\\\"*N)\n",
    "print(\" /@ @\\\\ \"*N)\n",
    "print(\"(~~0~~)\"*N)\n",
    "\n"
   ]
  },
  {
   "cell_type": "markdown",
   "id": "ready-disorder",
   "metadata": {
    "tags": [
     "task_1902",
     "Билет 19"
    ],
    "task_id": 1902
   },
   "source": [
    "2. Создать функции нахождения:\n",
    "a)\tМаксимального / минимального элемента в строке\n",
    "b)\t Разбиения предложения «Во поле береза стояла» на четыре слова."
   ]
  },
  {
   "cell_type": "code",
   "execution_count": null,
   "id": "grave-australia",
   "metadata": {
    "tags": [
     "task_1902",
     "Билет 19"
    ],
    "task_id": 1902
   },
   "outputs": [],
   "source": [
    "# ваш код здесь\n",
    "\n",
    "def my_max(x):\n",
    "    return max(x)\n",
    "\n",
    "def my_min(x):\n",
    "    return min(x)\n",
    "\n",
    "def my_split(x):\n",
    "    return x.split()\n",
    "\n",
    "a = input()\n",
    "\n",
    "print(my_split(a))"
   ]
  },
  {
   "cell_type": "markdown",
   "id": "devoted-redhead",
   "metadata": {
    "tags": [
     "task_1903",
     "Билет 19"
    ],
    "task_id": 1903
   },
   "source": [
    "3. Пользователь вводит произвольную строку в виде нескольких слов. Составить список, в котором слова находятся в лексикографическом порядке по возрастанию. Составить строку, в которой все слова списка, сформированного ранее, соединены знаком «&». Словом в строке считать подстроку, ограниченную пробелами."
   ]
  },
  {
   "cell_type": "code",
   "execution_count": null,
   "id": "wanted-white",
   "metadata": {
    "tags": [
     "task_1903",
     "Билет 19"
    ],
    "task_id": 1903
   },
   "outputs": [],
   "source": [
    "# ваш код здесь\n",
    "\n",
    "a = input()\n",
    "\n",
    "sorted_a = sorted(a.split())\n",
    "joined_a = \"&\".join(sorted_a)\n",
    "print(sorted_a)\n",
    "print(joined_a)"
   ]
  },
  {
   "cell_type": "markdown",
   "id": "fatal-barrel",
   "metadata": {
    "tags": [
     "Билет 20"
    ]
   },
   "source": [
    "## Билет 20"
   ]
  },
  {
   "cell_type": "markdown",
   "id": "fatal-syracuse",
   "metadata": {
    "tags": [
     "task_2001",
     "Билет 20"
    ],
    "task_id": 2001
   },
   "source": [
    "1. Реализовать структуру «Рейтинг», представляющую собой не возрастающий набор натуральных чисел. У пользователя необходимо запрашивать новый элемент рейтинга. Если в рейтинге существуют элементы с одинаковыми значениями, то новый элемент с тем же значением должен разместиться после них.\n",
    "Подсказка. Например, набор натуральных чисел: 7, 5, 3, 3, 2. \n",
    "Пользователь ввел число 3. Результат: 7, 5, 3, 3, 3, 2.\n",
    "Пользователь ввел число 8. Результат: 8, 7, 5, 3, 3, 2.\n",
    "Пользователь ввел число 1. Результат: 7, 5, 3, 3, 2, 1.\n",
    "Набор натуральных чисел можно задать непосредственно в коде, например, my_list = [7, 5, 3, 3, 2]. "
   ]
  },
  {
   "cell_type": "code",
   "execution_count": null,
   "id": "smaller-document",
   "metadata": {
    "tags": [
     "task_2001",
     "Билет 20"
    ],
    "task_id": 2001
   },
   "outputs": [],
   "source": [
    "# ваш код здесь\n",
    "my_list = [7, 5, 3, 3, 2]\n",
    "\n",
    "new_item = int(input())\n",
    "\n",
    "my_list.append(new_item)    \n",
    "print(sorted(my_list, reverse = True))\n"
   ]
  },
  {
   "cell_type": "markdown",
   "id": "corresponding-proof",
   "metadata": {
    "tags": [
     "task_2002",
     "Билет 20"
    ],
    "task_id": 2002
   },
   "source": [
    "2. Создать функции нахождения:\n",
    "a)\tЗаписывающей в обратном порядке\n",
    "b)\tСчитающей количество гласных\n",
    "c)\t Переводящей первую букву каждого слова в верхний регистр, остальные - в нижний."
   ]
  },
  {
   "cell_type": "code",
   "execution_count": null,
   "id": "signed-constraint",
   "metadata": {
    "tags": [
     "task_2002",
     "Билет 20"
    ],
    "task_id": 2002
   },
   "outputs": [],
   "source": [
    "# ваш код здесь\n",
    "def reverse(x):\n",
    "    return \" \".join(x.split()[::-1])\n",
    "\n",
    "def vowels_count(x):\n",
    "    count = 0\n",
    "    vowels = set(\"eyuioaEYUIOA\")\n",
    "    for letter in x:\n",
    "        if letter in vowels:\n",
    "            count += 1\n",
    "            \n",
    "    return(count)\n",
    "\n",
    "def my_title(x):\n",
    "    return(x.title())\n",
    "\n",
    "a = input()\n",
    "\n",
    "print(reverse(a))\n",
    "print(vowels_count(a))\n",
    "print(my_title(a))\n"
   ]
  },
  {
   "cell_type": "markdown",
   "id": "industrial-drawing",
   "metadata": {
    "tags": [
     "task_2003",
     "Билет 20"
    ],
    "task_id": 2003
   },
   "source": [
    "3. Напишите программу, которая вводит с клавиатуры числа до тех пор, пока не будет введено число 0. В конце работы программы на экран выводятся количество чисел (0 не считаем), минимальное и максимальное из введенных чисел, их сумму и среднее значение."
   ]
  },
  {
   "cell_type": "code",
   "execution_count": null,
   "id": "obvious-shooting",
   "metadata": {
    "tags": [
     "task_2003",
     "Билет 20"
    ],
    "task_id": 2003
   },
   "outputs": [],
   "source": [
    "# ваш код здесь\n",
    "\n",
    "items = []\n",
    "\n",
    "item = int(input())\n",
    "\n",
    "while(item != 0):\n",
    "    items.append(item)\n",
    "    item = int(input())\n",
    "    \n",
    "print(len(items))\n",
    "print(min(items))\n",
    "print(max(items))\n",
    "print(sum(items))\n",
    "print(sum(items)/len(items))\n"
   ]
  },
  {
   "cell_type": "markdown",
   "id": "becoming-census",
   "metadata": {
    "tags": [
     "Билет 21"
    ]
   },
   "source": [
    "## Билет 21"
   ]
  },
  {
   "cell_type": "markdown",
   "id": "disturbed-tulsa",
   "metadata": {
    "tags": [
     "task_2101",
     "Билет 21"
    ],
    "task_id": 2101
   },
   "source": [
    "1. Дана строка, состоящая из слов, разделенных пробелами. В этой строке: определите, сколько в ней слов."
   ]
  },
  {
   "cell_type": "code",
   "execution_count": null,
   "id": "oriental-singles",
   "metadata": {
    "tags": [
     "task_2101",
     "Билет 21"
    ],
    "task_id": 2101
   },
   "outputs": [],
   "source": [
    "# ваш код здесь\n",
    "a = input()\n",
    "print(len(a.split()))\n"
   ]
  },
  {
   "cell_type": "markdown",
   "id": "animal-africa",
   "metadata": {
    "tags": [
     "task_2102",
     "Билет 21"
    ],
    "task_id": 2102
   },
   "source": [
    "2. Напишите программу, которая в последовательности натуральных чисел определяет минимальное число, кратное 3. Программа получает на вход количество чисел в последовательности, а затем сами числа. В последовательности всегда имеется число, кратное 3. Количество чисел не превышает 1000. Введённые числа не превышают 30 000. Программа должна вывести одно число — минимальное число, кратное 3."
   ]
  },
  {
   "cell_type": "code",
   "execution_count": null,
   "id": "weird-antenna",
   "metadata": {
    "tags": [
     "task_2102",
     "Билет 21"
    ],
    "task_id": 2102
   },
   "outputs": [],
   "source": [
    "# ваш код здесь\n",
    "N = int(input())\n",
    "min_3 = float(\"inf\")\n",
    "print(min_3)\n",
    "\n",
    "for i in range(N):\n",
    "    item = int(input())\n",
    "\n",
    "    if (item % 3 == 0 and item < min_3):\n",
    "        min_3 = item\n",
    "    \n",
    "print(min_3)\n"
   ]
  },
  {
   "cell_type": "markdown",
   "id": "ideal-psychiatry",
   "metadata": {
    "tags": [
     "task_2103",
     "Билет 21"
    ],
    "task_id": 2103
   },
   "source": [
    "3. Дан словарь с числовыми значениями. Необходимо их все перемножить и вывести на экран."
   ]
  },
  {
   "cell_type": "code",
   "execution_count": null,
   "id": "valid-browser",
   "metadata": {
    "tags": [
     "task_2103",
     "Билет 21"
    ],
    "task_id": 2103
   },
   "outputs": [],
   "source": [
    "# ваш код здесь\n",
    "\n",
    "a = {1: 5, 2: 10, 3: 20}\n",
    "result = 1\n",
    "\n",
    "for i in a:\n",
    "    result *= a[i]\n",
    "    \n",
    "print(result)\n"
   ]
  },
  {
   "cell_type": "markdown",
   "id": "entire-defensive",
   "metadata": {
    "tags": [
     "Билет 22"
    ]
   },
   "source": [
    "## Билет 22"
   ]
  },
  {
   "cell_type": "markdown",
   "id": "challenging-signal",
   "metadata": {
    "tags": [
     "task_2201",
     "Билет 22"
    ],
    "task_id": 2201
   },
   "source": [
    "1. Пользователь поочередно вводит 2 строки. Определите, какая строка длиннее и на сколько символов, а какая строка стоит раньше в лексикографическом порядке. Собрать результирующую строку, которая бы содержала 1 и 2 строки, разделенные переносом строки."
   ]
  },
  {
   "cell_type": "code",
   "execution_count": null,
   "id": "simplified-designer",
   "metadata": {
    "tags": [
     "task_2201",
     "Билет 22"
    ],
    "task_id": 2201
   },
   "outputs": [],
   "source": [
    "# ваш код здесь\n",
    "\n"
   ]
  },
  {
   "cell_type": "markdown",
   "id": "nonprofit-constitution",
   "metadata": {
    "tags": [
     "task_2202",
     "Билет 22"
    ],
    "task_id": 2202
   },
   "source": [
    "2. Напишите программу, которая переводит оценку из 100-балльной системы в пятибалльную по правилам, принятым в университете (100/20 = 5, 90/20 = 4,5 = 5, 80/20 = 4 и т.д.)."
   ]
  },
  {
   "cell_type": "code",
   "execution_count": null,
   "id": "female-excess",
   "metadata": {
    "tags": [
     "task_2202",
     "Билет 22"
    ],
    "task_id": 2202
   },
   "outputs": [],
   "source": [
    "# ваш код здесь\n",
    "\n"
   ]
  },
  {
   "cell_type": "markdown",
   "id": "catholic-dutch",
   "metadata": {
    "tags": [
     "task_2203",
     "Билет 22"
    ],
    "task_id": 2203
   },
   "source": [
    "3. По номеру года определите, является ли данный год високосным. (год является високосным, если его номер кратен 4, но не кратен 100, а также если он кратен 400)."
   ]
  },
  {
   "cell_type": "code",
   "execution_count": null,
   "id": "former-building",
   "metadata": {
    "tags": [
     "task_2203",
     "Билет 22"
    ],
    "task_id": 2203
   },
   "outputs": [],
   "source": [
    "# ваш код здесь\n",
    "\n"
   ]
  },
  {
   "cell_type": "markdown",
   "id": "unauthorized-trouble",
   "metadata": {
    "tags": [
     "Билет 23"
    ]
   },
   "source": [
    "## Билет 23"
   ]
  },
  {
   "cell_type": "markdown",
   "id": "loved-population",
   "metadata": {
    "tags": [
     "task_2301",
     "Билет 23"
    ],
    "task_id": 2301
   },
   "source": [
    "1. Напишите программу для решения уравнения ax^2+bx+c=0. Коэффициенты a, b, c могут быть любыми числами."
   ]
  },
  {
   "cell_type": "code",
   "execution_count": null,
   "id": "signal-margin",
   "metadata": {
    "tags": [
     "task_2301",
     "Билет 23"
    ],
    "task_id": 2301
   },
   "outputs": [],
   "source": [
    "# ваш код здесь\n",
    "import math\n",
    "a = int(input(\"Введите значение a = \"))\n",
    "b = int(input(\"Введите значение b = \"))\n",
    "c = int(input(\"Введите значение c = \"))\n",
    "D = b ** 2 - 4 * a * c\n",
    "print(D)\n",
    "if D < 0:\n",
    "    print(\"Корней нет\")\n",
    "if D == 0:\n",
    "    x = -b / 2 * a\n",
    "    print (\"x =\",x)\n",
    "if D > 0:\n",
    "    x1 = (-b + math.sqrt(D)) / (2 * a)\n",
    "    x2 = (-b - math.sqrt(D)) / (2 * a)\n",
    "    print(\"x1 =\", x1)\n",
    "    print(\"x2 =\", x2)\n",
    "\n"
   ]
  },
  {
   "cell_type": "markdown",
   "id": "natural-attendance",
   "metadata": {
    "tags": [
     "task_2302",
     "Билет 23"
    ],
    "task_id": 2302
   },
   "source": [
    "2. Для отрезков длины a, b, c определить, можно ли из них составить треугольник и является ли этот треугольник прямоугольным."
   ]
  },
  {
   "cell_type": "code",
   "execution_count": null,
   "id": "textile-index",
   "metadata": {
    "tags": [
     "task_2302",
     "Билет 23"
    ],
    "task_id": 2302
   },
   "outputs": [],
   "source": [
    "# ваш код здесь\n",
    "a = int(input(\"Введите значение a = \"))\n",
    "b = int(input(\"Введите значение b = \"))\n",
    "c = int(input(\"Введите значение c = \"))\n",
    "if (a + b > c) and (b + c > a) and (c + a > b):\n",
    "    print(\"из отрезков можно составить треугольник\")\n",
    "    if (a**2 + b**2 == c**2) or (b**2 + c**2 == a**2) or (c**2 + a**2 == b**2):\n",
    "        print(\"треугольник является прямоугольным\")\n",
    "    else:\n",
    "        print(\"треугольник не является прямоугольным\")\n",
    "else:\n",
    "    print(\"из отрезков нельзя составить треугольник\")\n"
   ]
  },
  {
   "cell_type": "markdown",
   "id": "understanding-island",
   "metadata": {
    "tags": [
     "task_2303",
     "Билет 23"
    ],
    "task_id": 2303
   },
   "source": [
    "3. Не используя метод count, для заданной строки выполните: \n",
    "• если символ * в данной строке отсутствует, выведите текст «нет символа»; \n",
    "• если символ * встречается в строке только один раз, выведите его индекс."
   ]
  },
  {
   "cell_type": "code",
   "execution_count": null,
   "id": "juvenile-excellence",
   "metadata": {
    "tags": [
     "task_2303",
     "Билет 23"
    ],
    "task_id": 2303
   },
   "outputs": [],
   "source": [
    "# ваш код здесь\n",
    "stroka = str(input())\n",
    "kolvo = 0\n",
    "for i in range(len(stroka)):\n",
    "    if stroka[i] == \"*\":\n",
    "        kolvo += 1\n",
    "if kolvo == 0:\n",
    "    print(\"нет символа\")\n",
    "if kolvo == 1:\n",
    "        for i in range(len(stroka)):\n",
    "            if stroka[i] == \"*\":\n",
    "                print(i)\n",
    "    \n"
   ]
  },
  {
   "cell_type": "markdown",
   "id": "periodic-crisis",
   "metadata": {
    "tags": [
     "Билет 24"
    ]
   },
   "source": [
    "## Билет 24"
   ]
  },
  {
   "cell_type": "markdown",
   "id": "above-phase",
   "metadata": {
    "tags": [
     "task_2401",
     "Билет 24"
    ],
    "task_id": 2401
   },
   "source": [
    "1. ◄ Создание кортежа из слова 'Hello'\n",
    "◄ Создание кортежа из списка\n",
    "◄ Взятие среза в кортеже\n",
    "◄ Конкатенация трех кортежей"
   ]
  },
  {
   "cell_type": "code",
   "execution_count": null,
   "id": "ranging-freedom",
   "metadata": {
    "tags": [
     "task_2401",
     "Билет 24"
    ],
    "task_id": 2401
   },
   "outputs": [],
   "source": [
    "# ваш код здесь\n",
    "#1 \n",
    "Hello = ('H', 'e', 'l', 'l', 'o')\n",
    "print(Hello)\n",
    "#2\n",
    "list_ = list(range(5))\n",
    "kortezh = tuple(list_)\n",
    "print(kortezh)\n",
    "#3\n",
    "chisla = tuple(range(5))\n",
    "print(chisla[2:4])\n",
    "#4\n",
    "chisla1 = tuple(range(2))\n",
    "chisla2 = tuple(range(3))\n",
    "chisla3 = tuple(range(4))\n",
    "chisla4 = chisla1+chisla2+chisla3\n",
    "print(chisla4)\n"
   ]
  },
  {
   "cell_type": "markdown",
   "id": "vertical-bargain",
   "metadata": {
    "tags": [
     "task_2402",
     "Билет 24"
    ],
    "task_id": 2402
   },
   "source": [
    "2. Вычислите значение выражения, которое состоит из целых чисел и знаков «+» и «-». Выражение вводится как символьная строка."
   ]
  },
  {
   "cell_type": "code",
   "execution_count": null,
   "id": "polished-vegetation",
   "metadata": {
    "tags": [
     "task_2402",
     "Билет 24"
    ],
    "task_id": 2402
   },
   "outputs": [],
   "source": [
    "# ваш код здесь\n",
    "a = input()\n",
    "print(eval(a))\n"
   ]
  },
  {
   "cell_type": "markdown",
   "id": "tamil-fruit",
   "metadata": {
    "tags": [
     "task_2403",
     "Билет 24"
    ],
    "task_id": 2403
   },
   "source": [
    "3. Напишите программу, которая для введенного n вычисляет значение n! (не использовать функции Python)."
   ]
  },
  {
   "cell_type": "code",
   "execution_count": null,
   "id": "vital-indicator",
   "metadata": {
    "tags": [
     "task_2403",
     "Билет 24"
    ],
    "task_id": 2403
   },
   "outputs": [],
   "source": [
    "# ваш код здесь\n",
    "num = int(input(\"Введите число \"))\n",
    "for i in range(num):\n",
    "    if i!=0:\n",
    "        num = num * i\n",
    "print(num)\n"
   ]
  },
  {
   "cell_type": "markdown",
   "id": "whole-hypothesis",
   "metadata": {
    "tags": [
     "Билет 25"
    ]
   },
   "source": [
    "## Билет 25"
   ]
  },
  {
   "cell_type": "markdown",
   "id": "parental-introduction",
   "metadata": {
    "tags": [
     "task_2501",
     "Билет 25"
    ],
    "task_id": 2501
   },
   "source": [
    "1. Ввести координаты 2 точек: (x1, y1) и (x2, y2). Вычислите расстояние между этими точками. Результат выведите с 5 знаками после запятой."
   ]
  },
  {
   "cell_type": "code",
   "execution_count": null,
   "id": "atmospheric-character",
   "metadata": {
    "tags": [
     "task_2501",
     "Билет 25"
    ],
    "task_id": 2501
   },
   "outputs": [],
   "source": [
    "# ваш код здесь\n",
    "x1 = float(input(\"Введите x1 \"))\n",
    "y1 = float(input(\"Введите y1 \"))\n",
    "x2 = float(input(\"Введите x2 \"))\n",
    "y2 = float(input(\"Введите y2 \"))\n",
    "S = ((abs(x2-x1))**2+(abs(y2-y1))**2)**0.5\n",
    "print(f\"{S:.5f}\")\n"
   ]
  },
  {
   "cell_type": "markdown",
   "id": "israeli-cookbook",
   "metadata": {
    "tags": [
     "task_2502",
     "Билет 25"
    ],
    "task_id": 2502
   },
   "source": [
    "2. Создать множество и словарь в Python\n",
    "a)\tдобавить во множество три новых элемента\n",
    "b)\tудалить из множества уже существующий элемент\n",
    "c)\tвывести список ключей словаря"
   ]
  },
  {
   "cell_type": "code",
   "execution_count": null,
   "id": "tender-nursing",
   "metadata": {
    "tags": [
     "task_2502",
     "Билет 25"
    ],
    "task_id": 2502
   },
   "outputs": [],
   "source": [
    "# ваш код здесь\n",
    "letters = set([\"Alpha\", \"Beta\", \"Gamma\", \"Delta\"])\n",
    "dict_ = {\"Alpha\": \"letter\", \"Betta\": \"letter\", \"Gamma\": \"letter\", \"Gold\": \"mineral\", \"Delta\": \"letter\", \"Iron\": \"mineral\", \"Copper\": \"mineral\"}\n",
    "#a\n",
    "letters = letters | {\"Epsilon\", \"Zeta\", \"Eta\"}\n",
    "#b\n",
    "letters.discard(\"Alpha\")\n",
    "#c\n",
    "list(dict_.keys())\n"
   ]
  },
  {
   "cell_type": "markdown",
   "id": "prescribed-bottle",
   "metadata": {
    "tags": [
     "task_2503",
     "Билет 25"
    ],
    "task_id": 2503
   },
   "source": [
    "3. Определить минимальное значение среди чисел a, b, c, d (не использовать стандартные функции max и min)."
   ]
  },
  {
   "cell_type": "code",
   "execution_count": null,
   "id": "allied-coffee",
   "metadata": {
    "tags": [
     "task_2503",
     "Билет 25"
    ],
    "task_id": 2503
   },
   "outputs": [],
   "source": [
    "# ваш код здесь\n",
    "a = int(input(\"Введите a \"))\n",
    "b = int(input(\"Введите b \"))\n",
    "c = int(input(\"Введите c \"))\n",
    "d = int(input(\"Введите d \"))\n",
    "if a < b and a < c and a < d:\n",
    "    print(\"a - наименшее\")\n",
    "if b < a and b < c and b < d:\n",
    "    print(\"b - наименшее\")\n",
    "if c < a and c < b and c < d:\n",
    "    print(\"c - наименшее\")\n",
    "if d < a and d < b and d < c:\n",
    "    print(\"d - наименшее\")\n",
    "            \n"
   ]
  },
  {
   "cell_type": "markdown",
   "id": "requested-brooks",
   "metadata": {
    "tags": [
     "Билет 26"
    ]
   },
   "source": [
    "## Билет 26"
   ]
  },
  {
   "cell_type": "markdown",
   "id": "genetic-intention",
   "metadata": {
    "tags": [
     "task_2601",
     "Билет 26"
    ],
    "task_id": 2601
   },
   "source": [
    "1. Для заданного трехзначного числа выведите число, у которого цифры идут в обратном порядке, например, для числа 123 ответ 321."
   ]
  },
  {
   "cell_type": "code",
   "execution_count": null,
   "id": "meaning-memphis",
   "metadata": {
    "tags": [
     "task_2601",
     "Билет 26"
    ],
    "task_id": 2601
   },
   "outputs": [],
   "source": [
    "# ваш код здесь\n",
    "chislo = str(input(\"Введите число \"))\n",
    "print(chislo[::-1])\n"
   ]
  },
  {
   "cell_type": "markdown",
   "id": "closed-tower",
   "metadata": {
    "tags": [
     "task_2602",
     "Билет 26"
    ],
    "task_id": 2602
   },
   "source": [
    "2. Вывести все делители числа 48 используя функцию range(). "
   ]
  },
  {
   "cell_type": "code",
   "execution_count": null,
   "id": "national-catalog",
   "metadata": {
    "tags": [
     "task_2602",
     "Билет 26"
    ],
    "task_id": 2602
   },
   "outputs": [],
   "source": [
    "# ваш код здесь\n",
    "for i in range(49):\n",
    "    if i!=0:\n",
    "        if 48%i==0:\n",
    "            print(i)\n",
    "\n"
   ]
  },
  {
   "cell_type": "markdown",
   "id": "worth-baseball",
   "metadata": {
    "tags": [
     "task_2603",
     "Билет 26"
    ],
    "task_id": 2603
   },
   "source": [
    "3. Дана строка, состоящая из слов, разделенных пробелами. В этой строке: поменяйте регистр символов (строчные сделать прописными, прописные – строчными)."
   ]
  },
  {
   "cell_type": "code",
   "execution_count": null,
   "id": "premium-artist",
   "metadata": {
    "tags": [
     "task_2603",
     "Билет 26"
    ],
    "task_id": 2603
   },
   "outputs": [],
   "source": [
    "# ваш код здесь\n",
    "stroka = str(input(\"Введите строку \"))\n",
    "stroka = stroka.swapcase()\n",
    "print(stroka)\n",
    "\n"
   ]
  },
  {
   "cell_type": "markdown",
   "id": "secure-demographic",
   "metadata": {
    "tags": [
     "Билет 27"
    ]
   },
   "source": [
    "## Билет 27"
   ]
  },
  {
   "cell_type": "markdown",
   "id": "unauthorized-passing",
   "metadata": {
    "tags": [
     "task_2701",
     "Билет 27"
    ],
    "task_id": 2701
   },
   "source": [
    "1. Вычислите сумму цифр трехзначного числа."
   ]
  },
  {
   "cell_type": "code",
   "execution_count": null,
   "id": "eligible-virus",
   "metadata": {
    "tags": [
     "task_2701",
     "Билет 27"
    ],
    "task_id": 2701
   },
   "outputs": [],
   "source": [
    "# ваш код здесь\n",
    "d1=int(input())\n",
    "sotni= (d1 - d1%100)/100\n",
    "decjatki = (d1%100 - d1%10)/10\n",
    "edenizi= d1%10-d1%1\n",
    "summa_digits = sotni + edenizi + decjatki\n",
    "print(summa_digits)\n",
    "\n"
   ]
  },
  {
   "cell_type": "markdown",
   "id": "separate-exclusive",
   "metadata": {
    "tags": [
     "task_2702",
     "Билет 27"
    ],
    "task_id": 2702
   },
   "source": [
    "2. Написать программу, которая выводит список возможных остатков на деление 25."
   ]
  },
  {
   "cell_type": "code",
   "execution_count": null,
   "id": "equipped-checkout",
   "metadata": {
    "tags": [
     "task_2702",
     "Билет 27"
    ],
    "task_id": 2702
   },
   "outputs": [],
   "source": [
    "# ваш код здесь\n",
    "spisok = [(lambda x: x%25) (x) for x in range(0,25)]\n",
    "print(spisok)\n",
    "\n"
   ]
  },
  {
   "cell_type": "markdown",
   "id": "still-fiction",
   "metadata": {
    "tags": [
     "task_2703",
     "Билет 27"
    ],
    "task_id": 2703
   },
   "source": [
    "3. Извлечь все слова, начинающиеся на согласную."
   ]
  },
  {
   "cell_type": "code",
   "execution_count": null,
   "id": "elder-express",
   "metadata": {
    "tags": [
     "task_2703",
     "Билет 27"
    ],
    "task_id": 2703
   },
   "outputs": [],
   "source": [
    "# ваш код здесь\n",
    "a = str(input())\n",
    "a_list= a.split(\" \")\n",
    "b=[]\n",
    "c=('п','й','ц','к','н','г','ш','щ','з','х','ф','в','м','р','л','д','ж','ч','с','т','б')\n",
    "\n",
    "for i in a_list:\n",
    "    if i.startswith(c)==True:\n",
    "        b.append(i)   \n",
    "print(b)\n",
    "\n"
   ]
  },
  {
   "cell_type": "markdown",
   "id": "announced-nothing",
   "metadata": {
    "tags": [
     "Билет 28"
    ]
   },
   "source": [
    "## Билет 28"
   ]
  },
  {
   "cell_type": "markdown",
   "id": "ambient-hungarian",
   "metadata": {
    "tags": [
     "task_2801",
     "Билет 28"
    ],
    "task_id": 2801
   },
   "source": [
    "1. Значение x вводится с клавиатуры. Вычислите 𝑦 = 𝑥+12(1+𝑥 - 2) . Выведите на экран значения x и y с 3 знаками после запятой."
   ]
  },
  {
   "cell_type": "code",
   "execution_count": null,
   "id": "encouraging-education",
   "metadata": {
    "tags": [
     "task_2801",
     "Билет 28"
    ],
    "task_id": 2801
   },
   "outputs": [],
   "source": [
    "# ваш код здесь\n",
    "x= round(float(input()),3)\n",
    "y= round(  x + 12 * (1+x-2),3)\n",
    "print(x,y)\n"
   ]
  },
  {
   "cell_type": "markdown",
   "id": "constitutional-childhood",
   "metadata": {
    "tags": [
     "task_2802",
     "Билет 28"
    ],
    "task_id": 2802
   },
   "source": [
    "2. Сгенерировать список из всех чисел кратных 5 и не заканчивающихся нулем."
   ]
  },
  {
   "cell_type": "code",
   "execution_count": null,
   "id": "finished-project",
   "metadata": {
    "tags": [
     "task_2802",
     "Билет 28"
    ],
    "task_id": 2802
   },
   "outputs": [],
   "source": [
    "# ваш код здесь\n",
    "x=int(input())\n",
    "listofnums=[]\n",
    "for i in range(0,x):\n",
    "    if ((i%5==0) and ( i%2!=0)):\n",
    "        listofnums.append(i)\n",
    "print(listofnums)\n",
    "\n"
   ]
  },
  {
   "cell_type": "markdown",
   "id": "operating-breach",
   "metadata": {
    "tags": [
     "task_2803",
     "Билет 28"
    ],
    "task_id": 2803
   },
   "source": [
    "3. Проверить телефонный номер (номер должен быть длиной 12 знаков и начинаться с +)."
   ]
  },
  {
   "cell_type": "code",
   "execution_count": null,
   "id": "american-morris",
   "metadata": {
    "tags": [
     "task_2803",
     "Билет 28"
    ],
    "task_id": 2803
   },
   "outputs": [],
   "source": [
    "# ваш код здесь\n",
    "telnum=str(input())\n",
    "\n",
    "if ((telnum.startswith('+')) and (len(telnum)==12)):\n",
    "    print( 'это телефонный номер ')\n",
    "else:\n",
    "    print('это не телефонный номер')\n",
    "\n"
   ]
  },
  {
   "cell_type": "markdown",
   "id": "theoretical-democracy",
   "metadata": {
    "tags": [
     "Билет 29"
    ]
   },
   "source": [
    "## Билет 29"
   ]
  },
  {
   "cell_type": "markdown",
   "id": "cooperative-sweden",
   "metadata": {
    "tags": [
     "task_2901",
     "Билет 29"
    ],
    "task_id": 2901
   },
   "source": [
    "1. Введите строку, состоящую из 2 цифр. Преобразуйте ее в целое и вещественное число. Выведите полученные 3 значения (строку, целое число, вещественное число) на экран в одной строке через запятую, затем пропустите строку и вновь выведите значения по одному на строке. Перед каждым значением выведите его тип."
   ]
  },
  {
   "cell_type": "code",
   "execution_count": null,
   "id": "effective-plant",
   "metadata": {
    "tags": [
     "task_2901",
     "Билет 29"
    ],
    "task_id": 2901
   },
   "outputs": [],
   "source": [
    "# ваш код здесь\n",
    "str1=input()\n",
    "zeloe=int(str1)\n",
    "floatstr1=float(str1)\n",
    "print(str1,',',zeloe,',',floatstr1)\n",
    "\n",
    "print(f\"\"\"{type(str1)}\n",
    "{type(zeloe)}\n",
    "{type(floatstr1)}\"\"\")\n"
   ]
  },
  {
   "cell_type": "markdown",
   "id": "approximate-profession",
   "metadata": {
    "tags": [
     "task_2902",
     "Билет 29"
    ],
    "task_id": 2902
   },
   "source": [
    "2. Увеличьте каждый элемент массива в три раза и на 2 единицы с функцией enumerate."
   ]
  },
  {
   "cell_type": "code",
   "execution_count": null,
   "id": "ruled-rotation",
   "metadata": {
    "tags": [
     "task_2902",
     "Билет 29"
    ],
    "task_id": 2902
   },
   "outputs": [],
   "source": [
    "# ваш код здесь\n",
    "mas1 = [1,5,10,-5,34,6,3,7,12,346,40506,586]\n",
    "mas2=[]\n",
    "def enumerate(mas1):\n",
    "    for i in mas1:\n",
    "        i=i*3+2\n",
    "        mas2.append(i)\n",
    "    return(mas2)\n",
    "        \n",
    "enumerate(mas1)\n",
    "print(mas2)        \n",
    "\n"
   ]
  },
  {
   "cell_type": "markdown",
   "id": "hawaiian-latino",
   "metadata": {
    "tags": [
     "task_2903",
     "Билет 29"
    ],
    "task_id": 2903
   },
   "source": [
    "3. Заменить в строке все , ; ... на пробелы."
   ]
  },
  {
   "cell_type": "code",
   "execution_count": null,
   "id": "injured-awareness",
   "metadata": {
    "tags": [
     "task_2903",
     "Билет 29"
    ],
    "task_id": 2903
   },
   "outputs": [],
   "source": [
    "# ваш код здесь\n",
    "str1= str(input())\n",
    "str2=str1.replace(',',' ')\n",
    "str3=str2.replace(';',' ')\n",
    "str4=str3.replace('...',' ')\n",
    "print(str4)\n",
    "\n",
    "\n"
   ]
  },
  {
   "cell_type": "markdown",
   "id": "signed-refrigerator",
   "metadata": {
    "tags": [
     "Билет 30"
    ]
   },
   "source": [
    "## Билет 30"
   ]
  },
  {
   "cell_type": "markdown",
   "id": "attractive-october",
   "metadata": {
    "tags": [
     "task_3001",
     "Билет 30"
    ],
    "task_id": 3001
   },
   "source": [
    "1. Значения переменных А и В ввести с клавиатуры и вывести на экран. После этого значения меняются местами, т.е. A нужно присвоить значение B, а B – значение A, и вновь значения переменных вывести на экран."
   ]
  },
  {
   "cell_type": "code",
   "execution_count": null,
   "id": "brave-comedy",
   "metadata": {
    "tags": [
     "task_3001",
     "Билет 30"
    ],
    "task_id": 3001
   },
   "outputs": [],
   "source": [
    "# ваш код здесь\n",
    "A=input()\n",
    "B=input()\n",
    "print(A,B)\n",
    "C=A\n",
    "A=B\n",
    "B=C\n",
    "print(A,B)\n"
   ]
  },
  {
   "cell_type": "markdown",
   "id": "foreign-killing",
   "metadata": {
    "tags": [
     "task_3002",
     "Билет 30"
    ],
    "task_id": 3002
   },
   "source": [
    "2. Дана строка, состоящая из слов, разделенных пробелами. В этой строке: удалите все лишние пробелы (в начале, в конце, между словами оставить ровно один пробел)."
   ]
  },
  {
   "cell_type": "code",
   "execution_count": null,
   "id": "tribal-throat",
   "metadata": {
    "tags": [
     "task_3002",
     "Билет 30"
    ],
    "task_id": 3002
   },
   "outputs": [],
   "source": [
    "# ваш код здесь\n",
    "str1= str(input())\n",
    "str2=str1.split(\" \")\n",
    "str3=[]\n",
    "space = ''\n",
    "\n",
    "for i in range(len(str2)):\n",
    "    if str2[i]!=space:\n",
    "        str3.append(str2[i])\n",
    "print(' '.join(str3))\n",
    "\n"
   ]
  },
  {
   "cell_type": "markdown",
   "id": "after-samoa",
   "metadata": {
    "tags": [
     "task_3003",
     "Билет 30"
    ],
    "task_id": 3003
   },
   "source": [
    "3. Даны два отрезка [a;b] и [c;d]. Найдите их пересечение. Если отрезки не пересекаются, то выдайте сообщение."
   ]
  },
  {
   "cell_type": "code",
   "execution_count": null,
   "id": "interesting-medline",
   "metadata": {
    "tags": [
     "task_3003",
     "Билет 30"
    ],
    "task_id": 3003
   },
   "outputs": [],
   "source": [
    "# ваш код здесь\n",
    "a=int(input())\n",
    "b=int(input())\n",
    "c=int(input())\n",
    "d=int(input())\n",
    "list_ab = []\n",
    "list_cd = []\n",
    "list_intersection = []\n",
    "for i in range(a,b+1):\n",
    "    list_ab.append(i)\n",
    "for i in range(c,d+1):\n",
    "    list_cd.append(i)\n",
    "for i in list_ab:\n",
    "    if i in list_cd:\n",
    "        list_intersection.append(i)\n",
    "\n",
    "if len(list_intersection) >= 2:\n",
    "    x1= min(list_intersection)\n",
    "    x2= max(list_intersection)\n",
    "    print(x1,'-',x2)\n",
    "        \n",
    "elif len(list_intersection)==1:\n",
    "    print(list_intersection)\n",
    "\n",
    "else:\n",
    "    print('нет пересечения')\n"
   ]
  }
 ],
 "metadata": {
  "kernelspec": {
   "display_name": "Python 3",
   "language": "python",
   "name": "python3"
  },
  "language_info": {
   "codemirror_mode": {
    "name": "ipython",
    "version": 3
   },
   "file_extension": ".py",
   "mimetype": "text/x-python",
   "name": "python",
   "nbconvert_exporter": "python",
   "pygments_lexer": "ipython3",
   "version": "3.8.8"
  }
 },
 "nbformat": 4,
 "nbformat_minor": 5
}
